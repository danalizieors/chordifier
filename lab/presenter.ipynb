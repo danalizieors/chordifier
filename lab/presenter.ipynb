{
 "cells": [
  {
   "cell_type": "code",
   "execution_count": 1,
   "metadata": {},
   "outputs": [
    {
     "name": "stdout",
     "output_type": "stream",
     "text": [
      "/home/jovyan/work\n"
     ]
    },
    {
     "data": {
      "text/html": [
       "\n",
       "    <div class=\"bk-root\">\n",
       "        <a href=\"https://bokeh.pydata.org\" target=\"_blank\" class=\"bk-logo bk-logo-small bk-logo-notebook\"></a>\n",
       "        <span id=\"1001\">Loading BokehJS ...</span>\n",
       "    </div>"
      ]
     },
     "metadata": {},
     "output_type": "execute_result"
    },
    {
     "data": {},
     "metadata": {},
     "output_type": "display_data"
    }
   ],
   "source": [
    "%cd /home/jovyan/work\n",
    "\n",
    "from bokeh.io import output_notebook\n",
    "\n",
    "output_notebook()\n"
   ]
  },
  {
   "cell_type": "code",
   "execution_count": 2,
   "metadata": {},
   "outputs": [],
   "source": [
    "from bokeh.io import show\n",
    "from bokeh.plotting import figure\n",
    "from bokeh.util.hex import axial_to_cartesian\n",
    "\n",
    "from chordifier.Models import Keyboard\n",
    "from chordifier.KeyboardRenderer import KeyboardRenderer\n",
    "from chordifier.experiments.KeyboardFactory import make\n",
    "\n",
    "def present(title, keyboard):\n",
    "    renderer = KeyboardRenderer(keyboard)\n",
    "\n",
    "    f = make_figure(title)\n",
    "    draw_hexagons(f, renderer.qs, renderer.rs, renderer.colors, renderer.indices)\n",
    "    show(f)\n",
    "\n",
    "def make_figure(title):\n",
    "    f = figure(title=title, tools=\"pan,wheel_zoom,reset\", height=600,\n",
    "               sizing_mode='stretch_width', match_aspect=True)\n",
    "    f.grid.visible = False\n",
    "\n",
    "    return f\n",
    "\n",
    "def draw_hexagons(f, q, r, colors, labels):\n",
    "    f.hex_tile(q, r, fill_color=colors, alpha=0.5, line_color=\"white\",\n",
    "               orientation=\"flattop\")\n",
    "\n",
    "    x, y = axial_to_cartesian(q, r, 1, \"flattop\")\n",
    "\n",
    "    f.text(x, y, text=labels,\n",
    "           text_baseline=\"middle\", text_align=\"center\")\n"
   ]
  },
  {
   "cell_type": "code",
   "execution_count": 3,
   "metadata": {},
   "outputs": [
    {
     "data": {
      "text/html": [
       "\n",
       "\n",
       "\n",
       "\n",
       "\n",
       "\n",
       "  <div class=\"bk-root\" id=\"c9226f34-9b8b-4d12-8226-e56e7a929f18\" data-root-id=\"1002\"></div>\n"
      ]
     },
     "metadata": {},
     "output_type": "execute_result"
    },
    {
     "data": {},
     "metadata": {
      "application/vnd.bokehjs_exec.v0+json": {
       "id": "1002"
      }
     },
     "output_type": "display_data"
    },
    {
     "data": {
      "text/html": [
       "\n",
       "\n",
       "\n",
       "\n",
       "\n",
       "\n",
       "  <div class=\"bk-root\" id=\"74e42f76-75f6-443b-aae0-1fbcae2128a5\" data-root-id=\"1103\"></div>\n"
      ]
     },
     "metadata": {},
     "output_type": "execute_result"
    },
    {
     "data": {},
     "metadata": {
      "application/vnd.bokehjs_exec.v0+json": {
       "id": "1103"
      }
     },
     "output_type": "display_data"
    },
    {
     "data": {
      "text/html": [
       "\n",
       "\n",
       "\n",
       "\n",
       "\n",
       "\n",
       "  <div class=\"bk-root\" id=\"66278e45-182f-4968-9383-58f7ea87cf02\" data-root-id=\"1213\"></div>\n"
      ]
     },
     "metadata": {},
     "output_type": "execute_result"
    },
    {
     "data": {},
     "metadata": {
      "application/vnd.bokehjs_exec.v0+json": {
       "id": "1213"
      }
     },
     "output_type": "display_data"
    },
    {
     "data": {
      "text/html": [
       "\n",
       "\n",
       "\n",
       "\n",
       "\n",
       "\n",
       "  <div class=\"bk-root\" id=\"3bd81a31-506e-413b-9924-aa930b28efdb\" data-root-id=\"1332\"></div>\n"
      ]
     },
     "metadata": {},
     "output_type": "execute_result"
    },
    {
     "data": {},
     "metadata": {
      "application/vnd.bokehjs_exec.v0+json": {
       "id": "1332"
      }
     },
     "output_type": "display_data"
    }
   ],
   "source": [
    "keyboard = make([5, 4, 4, 4, 3, 4, 2, 3, 4, 5])\n",
    "present('Two possible keyboards with many buttons', keyboard)\n",
    "\n",
    "keyboard = make([1, 1, 1, 1, 0, 0, 1, 1, 1, 1])\n",
    "present('rGloves input device', keyboard)\n",
    "\n",
    "keyboard = make([0, 0, 0, 0, 2, 2, 0, 0, 0, 0])\n",
    "present('Handheld keyboard, operated with thumbs', keyboard)\n",
    "\n",
    "keyboard = make([3, 3, 3, 3, 2, 0, 0, 0, 0, 0])\n",
    "present('One-handed keyboard', keyboard)\n"
   ]
  },
  {
   "cell_type": "code",
   "execution_count": null,
   "metadata": {},
   "outputs": [],
   "source": []
  }
 ],
 "metadata": {
  "kernelspec": {
   "display_name": "Python 3",
   "language": "python",
   "name": "python3"
  },
  "language_info": {
   "codemirror_mode": {
    "name": "ipython",
    "version": 3
   },
   "file_extension": ".py",
   "mimetype": "text/x-python",
   "name": "python",
   "nbconvert_exporter": "python",
   "pygments_lexer": "ipython3",
   "version": "3.7.3"
  }
 },
 "nbformat": 4,
 "nbformat_minor": 2
}
